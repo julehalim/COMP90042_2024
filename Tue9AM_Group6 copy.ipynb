{
  "cells": [
    {
      "cell_type": "markdown",
      "metadata": {
        "id": "32yCsRUo8H33"
      },
      "source": [
        "# 2024 COMP90042 Project\n",
        "*Make sure you change the file name with your group id.*"
      ]
    },
    {
      "cell_type": "markdown",
      "metadata": {
        "id": "XCybYoGz8YWQ"
      },
      "source": [
        "# Readme\n",
        "*If there is something to be noted for the marker, please mention here.*\n",
        "\n",
        "*If you are planning to implement a program with Object Oriented Programming style, please put those the bottom of this ipynb file*"
      ]
    },
    {
      "cell_type": "markdown",
      "metadata": {
        "id": "6po98qVA8bJD"
      },
      "source": [
        "# 1.DataSet Processing\n",
        "(You can add as many code blocks and text blocks as you need. However, YOU SHOULD NOT MODIFY the section title)"
      ]
    },
    {
      "cell_type": "code",
      "execution_count": 22,
      "metadata": {},
      "outputs": [
        {
          "name": "stdout",
          "output_type": "stream",
          "text": [
            "Requirement already satisfied: torchtext==0.4.0 in c:\\users\\julev\\anaconda3\\envs\\python38\\lib\\site-packages (0.4.0)\n",
            "Requirement already satisfied: tqdm in c:\\users\\julev\\anaconda3\\envs\\python38\\lib\\site-packages (from torchtext==0.4.0) (4.66.2)\n",
            "Requirement already satisfied: requests in c:\\users\\julev\\anaconda3\\envs\\python38\\lib\\site-packages (from torchtext==0.4.0) (2.31.0)\n",
            "Requirement already satisfied: torch in c:\\users\\julev\\anaconda3\\envs\\python38\\lib\\site-packages (from torchtext==0.4.0) (2.2.1)\n",
            "Requirement already satisfied: numpy in c:\\users\\julev\\anaconda3\\envs\\python38\\lib\\site-packages (from torchtext==0.4.0) (1.24.3)\n",
            "Requirement already satisfied: six in c:\\users\\julev\\anaconda3\\envs\\python38\\lib\\site-packages (from torchtext==0.4.0) (1.16.0)\n",
            "Requirement already satisfied: charset-normalizer<4,>=2 in c:\\users\\julev\\anaconda3\\envs\\python38\\lib\\site-packages (from requests->torchtext==0.4.0) (3.3.2)\n",
            "Requirement already satisfied: idna<4,>=2.5 in c:\\users\\julev\\anaconda3\\envs\\python38\\lib\\site-packages (from requests->torchtext==0.4.0) (3.6)\n",
            "Requirement already satisfied: urllib3<3,>=1.21.1 in c:\\users\\julev\\anaconda3\\envs\\python38\\lib\\site-packages (from requests->torchtext==0.4.0) (2.2.1)\n",
            "Requirement already satisfied: certifi>=2017.4.17 in c:\\users\\julev\\anaconda3\\envs\\python38\\lib\\site-packages (from requests->torchtext==0.4.0) (2024.2.2)\n",
            "Requirement already satisfied: filelock in c:\\users\\julev\\anaconda3\\envs\\python38\\lib\\site-packages (from torch->torchtext==0.4.0) (3.13.3)\n",
            "Requirement already satisfied: typing-extensions>=4.8.0 in c:\\users\\julev\\anaconda3\\envs\\python38\\lib\\site-packages (from torch->torchtext==0.4.0) (4.11.0)\n",
            "Requirement already satisfied: sympy in c:\\users\\julev\\anaconda3\\envs\\python38\\lib\\site-packages (from torch->torchtext==0.4.0) (1.12)\n",
            "Requirement already satisfied: networkx in c:\\users\\julev\\anaconda3\\envs\\python38\\lib\\site-packages (from torch->torchtext==0.4.0) (3.1)\n",
            "Requirement already satisfied: jinja2 in c:\\users\\julev\\anaconda3\\envs\\python38\\lib\\site-packages (from torch->torchtext==0.4.0) (3.1.3)\n",
            "Requirement already satisfied: fsspec in c:\\users\\julev\\anaconda3\\envs\\python38\\lib\\site-packages (from torch->torchtext==0.4.0) (2024.3.1)\n",
            "Requirement already satisfied: colorama in c:\\users\\julev\\anaconda3\\envs\\python38\\lib\\site-packages (from tqdm->torchtext==0.4.0) (0.4.6)\n",
            "Requirement already satisfied: MarkupSafe>=2.0 in c:\\users\\julev\\anaconda3\\envs\\python38\\lib\\site-packages (from jinja2->torch->torchtext==0.4.0) (2.1.5)\n",
            "Requirement already satisfied: mpmath>=0.19 in c:\\users\\julev\\anaconda3\\envs\\python38\\lib\\site-packages (from sympy->torch->torchtext==0.4.0) (1.3.0)\n"
          ]
        }
      ],
      "source": [
        "## import libraries\n",
        "\n",
        "!pip3 install torchtext==0.4.0\n",
        "\n",
        "# Standard libraries\n",
        "import math\n",
        "import string\n",
        "import pandas as pd\n",
        "import numpy as np\n",
        "import json\n",
        "\n",
        "# Machine learning and deep learning libraries\n",
        "import tensorflow\n",
        "import keras\n",
        "from sklearn.feature_extraction.text import TfidfVectorizer\n",
        "import torch\n",
        "import torch.nn as nn\n",
        "import torch.nn.functional as F\n",
        "import torchtext\n",
        "from torchtext.data.utils import get_tokenizer\n",
        "from torchtext.data import Field, LabelField, Example, Dataset\n",
        "from torchtext.data.utils import get_tokenizer\n",
        "\n",
        "# Natural Language Processing (NLP) libraries\n",
        "import nltk\n",
        "import spacy\n",
        "from nltk.corpus import stopwords\n",
        "\n",
        "# Visualization\n",
        "import matplotlib.pyplot as plt"
      ]
    },
    {
      "cell_type": "code",
      "execution_count": 23,
      "metadata": {
        "id": "qvff21Hv8zjk"
      },
      "outputs": [],
      "source": [
        "## reading in json files\n",
        "\n",
        "\"\"\"\n",
        "Description of json files\n",
        "* [train-claims,dev-claims].json: JSON files for the labelled training and development set; \n",
        "* evidence.json: JSON file containing a large number of evidence passages (i.e. the “knowledge source”); \n",
        "* dev-claims-baseline.json: JSON file containing predictions of a baseline system on the development set;\n",
        "\"\"\"\n",
        "\n",
        "## relative file paths\n",
        "\n",
        "## baseline system - will not be used for any training/evaluation\n",
        "devClaimsBaselineFile='./data/dev-claims-baseline.json'\n",
        "## use this for model training\n",
        "trainClaimsFile='./data/train-claims.json'\n",
        "## use this set for hyperparameter tuning and evaluation metric \n",
        "devClaimsFile='./data/dev-claims.json'\n",
        "## evidence files need to be downloaded through https://drive.google.com/file/d/1JlUzRufknsHzKzvrEjgw8D3n_IRpjzo6/view?usp=sharing as it is to big to be uploaded to github\n",
        "evidenceFile='./data/evidence.json'\n",
        "\n",
        "\n",
        "tokenizer=get_tokenizer(\"basic_english\")\n"
      ]
    },
    {
      "cell_type": "code",
      "execution_count": 24,
      "metadata": {},
      "outputs": [
        {
          "name": "stdout",
          "output_type": "stream",
          "text": [
            "{'text': ['[south', 'australia]', 'expensive', 'electricity', 'world'], 'label': ['evidence-67732', 'evidence-572512']}\n",
            "{'text': ['3', 'per', 'cent', 'total', 'annual', 'global', 'emissions', 'carbon', 'dioxide', 'humans', 'australia', 'prod\\xaduces', '1', '3', 'per', 'cent', '3', 'per', 'cent', 'amount', 'emissions', 'reductio\\xadn', 'effect', 'global', 'climate'], 'label': ['evidence-996421', 'evidence-1080858', 'evidence-208053', 'evidence-699212', 'evidence-832334']}\n",
            "{'text': ['means', 'world', '1c', 'warmer', 'pre-industrial', 'times'], 'label': ['evidence-889933', 'evidence-694262']}\n",
            "{'text': ['“as', 'happens', 'zika', 'may', 'also', 'good', 'model', 'second', 'worrying', 'effect', '—', 'disease', 'mutation'], 'label': ['evidence-422399', 'evidence-702226', 'evidence-286834', 'evidence-472751', 'evidence-641043']}\n",
            "{'text': ['greenland', 'lost', 'tiny', 'fraction', 'ice', 'mass'], 'label': ['evidence-52981', 'evidence-264761', 'evidence-947243', 'evidence-424102']}\n"
          ]
        }
      ],
      "source": [
        "\n",
        "# Define tokenizer\n",
        "tokenizer=get_tokenizer(\"basic_english\")\n",
        "stopWords=set(stopwords.words('english'))\n",
        "punctuation=string.punctuation\n",
        "\n",
        "def tokenizeAndStopwordRemoval(text):\n",
        "    tokens=tokenizer(text)\n",
        "    filteredTokens=[word for word in tokens if (word not in stopWords) and (word not in punctuation)]\n",
        "    return filteredTokens\n",
        "\n",
        "\n",
        "TEXT=torchtext.data.Field(tokenize=tokenizeAndStopwordRemoval,\n",
        "                          init_token='<sos>',\n",
        "                          eos_token='<sos>',\n",
        "                          lower=True)\n",
        "LABEL = torchtext.data.LabelField(dtype=torch.float)\n",
        "\n",
        "# Load datasets\n",
        "def load_json_data(json_file, text_field, label_field):\n",
        "    with open(json_file, 'r') as file:\n",
        "        data=json.load(file)\n",
        "    examples=[]\n",
        "    for i,claimText in data.items():\n",
        "        text=claimText['claim_text']\n",
        "        label=claimText['evidences']\n",
        "        examples.append(Example.fromlist([text, label], fields=[('text', text_field), ('label', label_field)]))\n",
        "    return examples\n",
        "\n",
        "train_examples=load_json_data(trainClaimsFile, TEXT, LABEL)\n",
        "dev_examples=load_json_data(devClaimsFile, TEXT, LABEL)\n",
        "\n",
        "train_dataset = Dataset(train_examples, fields=[('text', TEXT), ('label', LABEL)])\n",
        "dev_dataset = Dataset(dev_examples, fields=[('text', TEXT), ('label', LABEL)])\n",
        "\n",
        "for i, example in enumerate(dev_dataset.examples):\n",
        "    if i < 5:\n",
        "        print(vars(example))\n",
        "\n",
        "# Build vocabulary\n",
        "TEXT.build_vocab(train_dataset)\n",
        "LABEL.build_vocab(train_dataset)\n",
        "\n",
        "# Device\n",
        "device = torch.device(\"cuda\" if torch.cuda.is_available() else \"cpu\")\n",
        "\n",
        "# Batchify function\n",
        "def batchify(dataset, bsz):\n",
        "    data = TEXT.process([getattr(x, 'text') for x in dataset.examples])\n",
        "    nbatch = data.size(0) // bsz\n",
        "    data = data.narrow(0, 0, nbatch * bsz)\n",
        "    data = data.view(bsz, -1).t().contiguous()\n",
        "    return data.to(device)\n",
        "\n",
        "# Batch sizes\n",
        "batch_size = 20\n",
        "eval_batch_size = 10\n",
        "\n",
        "# Process the datasets\n",
        "\n",
        "train_data = batchify(train_dataset, batch_size)\n",
        "dev_data = batchify(dev_dataset, eval_batch_size)\n",
        "\n",
        "bptt = 35\n",
        "def get_batch(source, i):\n",
        "    seq_len = min(bptt, len(source) - 1 - i)\n",
        "    data = source[i:i+seq_len]\n",
        "    target = source[i+1:i+1+seq_len].view(-1)\n",
        "    return data, target"
      ]
    },
    {
      "cell_type": "markdown",
      "metadata": {
        "id": "1FA2ao2l8hOg"
      },
      "source": [
        "# 2. Model Implementation\n",
        "(You can add as many code blocks and text blocks as you need. However, YOU SHOULD NOT MODIFY the section title)"
      ]
    },
    {
      "cell_type": "code",
      "execution_count": 25,
      "metadata": {},
      "outputs": [],
      "source": [
        "class TransformerModel(nn.Module):\n",
        "\n",
        "    def __init__(self, ntoken, ninp, nhead, nhid, nlayers, dropout=0.5):\n",
        "        super(TransformerModel, self).__init__()\n",
        "        from torch.nn import TransformerEncoder, TransformerEncoderLayer\n",
        "        self.model_type = 'Transformer'\n",
        "        self.src_mask = None\n",
        "        self.pos_encoder = PositionalEncoding(ninp, dropout)\n",
        "        encoder_layers = TransformerEncoderLayer(ninp, nhead, nhid, dropout)\n",
        "        self.transformer_encoder = TransformerEncoder(encoder_layers, nlayers)\n",
        "        self.encoder = nn.Embedding(ntoken, ninp)\n",
        "        self.ninp = ninp\n",
        "        self.decoder = nn.Linear(ninp, ntoken)\n",
        "\n",
        "        self.init_weights()\n",
        "\n",
        "    def _generate_square_subsequent_mask(self, sz):\n",
        "        #triu returns the upper triangular part of a matrix (2-D tensor) or batch of matrices (see section below)\n",
        "        mask = (torch.triu(torch.ones(sz, sz)) == 1).transpose(0, 1)\n",
        "        mask = mask.float().masked_fill(mask == 0, float('-inf')).masked_fill(mask == 1, float(0.0))\n",
        "        return mask\n",
        "\n",
        "    def init_weights(self):\n",
        "        initrange = 0.1\n",
        "        self.encoder.weight.data.uniform_(-initrange, initrange)\n",
        "        self.decoder.bias.data.zero_()\n",
        "        self.decoder.weight.data.uniform_(-initrange, initrange)\n",
        "\n",
        "    def forward(self, src):\n",
        "        if self.src_mask is None or self.src_mask.size(0) != len(src):\n",
        "            device = src.device\n",
        "            mask = self._generate_square_subsequent_mask(len(src)).to(device)\n",
        "            self.src_mask = mask\n",
        "\n",
        "        src = self.encoder(src) * math.sqrt(self.ninp)\n",
        "        src = self.pos_encoder(src)\n",
        "        output = self.transformer_encoder(src, self.src_mask)\n",
        "        output = self.decoder(output)\n",
        "        return output"
      ]
    },
    {
      "cell_type": "code",
      "execution_count": 26,
      "metadata": {},
      "outputs": [
        {
          "data": {
            "text/plain": [
              "tensor([[1., 1., 1.],\n",
              "        [0., 1., 1.],\n",
              "        [0., 0., 1.]])"
            ]
          },
          "execution_count": 26,
          "metadata": {},
          "output_type": "execute_result"
        }
      ],
      "source": [
        "#triu returns the upper triangular part of a matrix (2-D tensor) or batch of matrices (see section below)\n",
        "torch.triu(torch.ones(3, 3))"
      ]
    },
    {
      "cell_type": "code",
      "execution_count": 27,
      "metadata": {},
      "outputs": [
        {
          "data": {
            "text/plain": [
              "tensor([[0., -inf, -inf, -inf],\n",
              "        [0., 0., -inf, -inf],\n",
              "        [0., 0., 0., -inf],\n",
              "        [0., 0., 0., 0.]])"
            ]
          },
          "execution_count": 27,
          "metadata": {},
          "output_type": "execute_result"
        }
      ],
      "source": [
        "# Masking\n",
        "def masking():\n",
        "  sz = 4\n",
        "  mask = (torch.triu(torch.ones(sz, sz)) == 1).transpose(0, 1)\n",
        "  mask = mask.float().masked_fill(mask == 0, float('-inf')).masked_fill(mask == 1, float(0.0))\n",
        "\n",
        "  return mask\n",
        "\n",
        "masking()"
      ]
    },
    {
      "cell_type": "code",
      "execution_count": 28,
      "metadata": {},
      "outputs": [],
      "source": [
        "class PositionalEncoding(nn.Module):\n",
        "\n",
        "    def __init__(self, d_model, dropout=0.1, max_len=5000):\n",
        "        super(PositionalEncoding, self).__init__()\n",
        "        self.dropout = nn.Dropout(p=dropout)\n",
        "\n",
        "        pe = torch.zeros(max_len, d_model)\n",
        "        position = torch.arange(0, max_len, dtype=torch.float).unsqueeze(1)\n",
        "        div_term = torch.exp(torch.arange(0, d_model, 2).float() * (-math.log(10000.0) / d_model))\n",
        "        pe[:, 0::2] = torch.sin(position * div_term) #0::2 means starting with index 0, step = 2\n",
        "        pe[:, 1::2] = torch.cos(position * div_term)\n",
        "        pe = pe.unsqueeze(0).transpose(0, 1)\n",
        "        self.register_buffer('pe', pe)\n",
        "\n",
        "    def forward(self, x):\n",
        "        x = x + self.pe[:x.size(0), :]\n",
        "        return self.dropout(x)\n",
        "    \n",
        "ntokens = len(TEXT.vocab.stoi) # the size of vocabulary\n",
        "emsize = 200 # embedding dimension\n",
        "nhid = 200 # the dimension of the feedforward network model in nn.TransformerEncoder\n",
        "nlayers = 2 # the number of nn.TransformerEncoderLayer in nn.TransformerEncoder\n",
        "nhead = 2 # the number of heads in the multiheadattention models\n",
        "dropout = 0.2 # the dropout value\n",
        "model = TransformerModel(ntokens, emsize, nhead, nhid, nlayers, dropout).to(device)\n"
      ]
    },
    {
      "cell_type": "markdown",
      "metadata": {
        "id": "EzGuzHPE87Ya"
      },
      "source": [
        "# 3.Testing and Evaluation\n",
        "(You can add as many code blocks and text blocks as you need. However, YOU SHOULD NOT MODIFY the section title)"
      ]
    },
    {
      "cell_type": "code",
      "execution_count": 29,
      "metadata": {
        "id": "6ZVeNYIH9IaL"
      },
      "outputs": [
        {
          "name": "stdout",
          "output_type": "stream",
          "text": [
            "-----------------------------------------------------------------------------------------\n",
            "| end of epoch   1 | time:  5.42s | valid loss  5.90 | valid ppl   365.26\n",
            "-----------------------------------------------------------------------------------------\n",
            "-----------------------------------------------------------------------------------------\n",
            "| end of epoch   2 | time:  4.76s | valid loss  3.05 | valid ppl    21.01\n",
            "-----------------------------------------------------------------------------------------\n",
            "-----------------------------------------------------------------------------------------\n",
            "| end of epoch   3 | time:  4.85s | valid loss  4.63 | valid ppl   102.56\n",
            "-----------------------------------------------------------------------------------------\n",
            "-----------------------------------------------------------------------------------------\n",
            "| end of epoch   4 | time:  4.45s | valid loss  9.26 | valid ppl 10472.32\n",
            "-----------------------------------------------------------------------------------------\n",
            "-----------------------------------------------------------------------------------------\n",
            "| end of epoch   5 | time:  4.39s | valid loss  2.89 | valid ppl    18.00\n",
            "-----------------------------------------------------------------------------------------\n"
          ]
        }
      ],
      "source": [
        "criterion = nn.CrossEntropyLoss()\n",
        "lr = 5.0 # learning rate\n",
        "optimizer = torch.optim.SGD(model.parameters(), lr=lr)\n",
        "scheduler = torch.optim.lr_scheduler.StepLR(optimizer, 1.0, gamma=0.95)\n",
        "\n",
        "import time\n",
        "def train():\n",
        "    model.train() # Turn on the train mode\n",
        "    total_loss = 0.\n",
        "    start_time = time.time()\n",
        "    ntokens = len(TEXT.vocab.stoi)\n",
        "    for batch, i in enumerate(range(0, train_data.size(0) - 1, bptt)):\n",
        "        data, targets = get_batch(train_data, i)\n",
        "        optimizer.zero_grad()\n",
        "        output = model(data)\n",
        "        loss = criterion(output.view(-1, ntokens), targets)\n",
        "        loss.backward()\n",
        "        torch.nn.utils.clip_grad_norm_(model.parameters(), 0.5)\n",
        "        optimizer.step()\n",
        "\n",
        "        total_loss += loss.item()\n",
        "        log_interval = 200\n",
        "        if batch % log_interval == 0 and batch > 0:\n",
        "            cur_loss = total_loss / log_interval\n",
        "            elapsed = time.time() - start_time\n",
        "            print('| epoch {:3d} | {:5d}/{:5d} batches | '\n",
        "                  'lr {:02.2f} | ms/batch {:5.2f} | '\n",
        "                  'loss {:5.2f} | ppl {:8.2f}'.format(\n",
        "                    epoch, batch, len(train_data) // bptt, scheduler.get_lr()[0],\n",
        "                    elapsed * 1000 / log_interval,\n",
        "                    cur_loss, math.exp(cur_loss)))\n",
        "            total_loss = 0\n",
        "            start_time = time.time()\n",
        "\n",
        "\n",
        "def evaluate(eval_model, data_source):\n",
        "    eval_model.eval() # Turn on the evaluation mode\n",
        "    total_loss = 0.\n",
        "    ntokens = len(TEXT.vocab.stoi)\n",
        "    with torch.no_grad():\n",
        "        for i in range(0, data_source.size(0) - 1, bptt):\n",
        "            data, targets = get_batch(data_source, i)\n",
        "            output = eval_model(data)\n",
        "            output_flat = output.view(-1, ntokens)\n",
        "            total_loss += len(data) * criterion(output_flat, targets).item()\n",
        "    return total_loss / (len(data_source) - 1)\n",
        "\n",
        "best_val_loss = float(\"inf\")\n",
        "epochs = 5 # The number of epochs\n",
        "best_model = None\n",
        "\n",
        "for epoch in range(1, epochs + 1):\n",
        "    epoch_start_time = time.time()\n",
        "    train()\n",
        "    val_loss = evaluate(model, dev_data)\n",
        "    print('-' * 89)\n",
        "    print('| end of epoch {:3d} | time: {:5.2f}s | valid loss {:5.2f} | '\n",
        "          'valid ppl {:8.2f}'.format(epoch, (time.time() - epoch_start_time),\n",
        "                                     val_loss, math.exp(val_loss)))\n",
        "    print('-' * 89)\n",
        "\n",
        "    if val_loss < best_val_loss:\n",
        "        best_val_loss = val_loss\n",
        "        best_model = model\n",
        "\n",
        "    scheduler.step()\n"
      ]
    },
    {
      "cell_type": "code",
      "execution_count": 30,
      "metadata": {},
      "outputs": [
        {
          "name": "stdout",
          "output_type": "stream",
          "text": [
            "=========================================================================================\n",
            "| End of training | test loss  2.89 | test ppl    18.00\n",
            "=========================================================================================\n",
            "['evidence-368192']\n"
          ]
        },
        {
          "ename": "KeyError",
          "evalue": "3651",
          "output_type": "error",
          "traceback": [
            "\u001b[1;31m---------------------------------------------------------------------------\u001b[0m",
            "\u001b[1;31mKeyError\u001b[0m                                  Traceback (most recent call last)",
            "Cell \u001b[1;32mIn[30], line 27\u001b[0m\n\u001b[0;32m     23\u001b[0m \u001b[38;5;66;03m# print(reverseVocab)\u001b[39;00m\n\u001b[0;32m     25\u001b[0m \u001b[38;5;28;01mfor\u001b[39;00m i \u001b[38;5;129;01min\u001b[39;00m predictedIndex:\n\u001b[0;32m     26\u001b[0m     \u001b[38;5;66;03m#print(i)\u001b[39;00m\n\u001b[1;32m---> 27\u001b[0m     words \u001b[38;5;241m=\u001b[39m \u001b[38;5;28mlist\u001b[39m(\u001b[38;5;28mset\u001b[39m([reverseVocab[index\u001b[38;5;241m.\u001b[39mitem()] \u001b[38;5;28;01mfor\u001b[39;00m index \u001b[38;5;129;01min\u001b[39;00m i]))\n\u001b[0;32m     28\u001b[0m     \u001b[38;5;28mprint\u001b[39m(words)\n\u001b[0;32m     31\u001b[0m \u001b[38;5;66;03m#accuracyScore=accuracy_score()\u001b[39;00m\n",
            "Cell \u001b[1;32mIn[30], line 27\u001b[0m, in \u001b[0;36m<listcomp>\u001b[1;34m(.0)\u001b[0m\n\u001b[0;32m     23\u001b[0m \u001b[38;5;66;03m# print(reverseVocab)\u001b[39;00m\n\u001b[0;32m     25\u001b[0m \u001b[38;5;28;01mfor\u001b[39;00m i \u001b[38;5;129;01min\u001b[39;00m predictedIndex:\n\u001b[0;32m     26\u001b[0m     \u001b[38;5;66;03m#print(i)\u001b[39;00m\n\u001b[1;32m---> 27\u001b[0m     words \u001b[38;5;241m=\u001b[39m \u001b[38;5;28mlist\u001b[39m(\u001b[38;5;28mset\u001b[39m([\u001b[43mreverseVocab\u001b[49m\u001b[43m[\u001b[49m\u001b[43mindex\u001b[49m\u001b[38;5;241;43m.\u001b[39;49m\u001b[43mitem\u001b[49m\u001b[43m(\u001b[49m\u001b[43m)\u001b[49m\u001b[43m]\u001b[49m \u001b[38;5;28;01mfor\u001b[39;00m index \u001b[38;5;129;01min\u001b[39;00m i]))\n\u001b[0;32m     28\u001b[0m     \u001b[38;5;28mprint\u001b[39m(words)\n\u001b[0;32m     31\u001b[0m \u001b[38;5;66;03m#accuracyScore=accuracy_score()\u001b[39;00m\n",
            "\u001b[1;31mKeyError\u001b[0m: 3651"
          ]
        }
      ],
      "source": [
        "test_loss = evaluate(best_model, dev_data)\n",
        "print('=' * 89)\n",
        "print('| End of training | test loss {:5.2f} | test ppl {:8.2f}'.format(\n",
        "    test_loss, math.exp(test_loss)))\n",
        "print('=' * 89)\n",
        "\n",
        "model.eval()\n",
        "output=model(dev_data)\n",
        "probabilities=torch.nn.functional.softmax(output,dim=-1)\n",
        "_,predictedIndex=torch.max(probabilities,dim=-1)\n",
        "# for i in predictedIndex:\n",
        "#     print(predictedIndex[i])\n",
        "\n",
        "# print(LABEL.vocab.stoi)\n",
        "from sklearn.metrics import accuracy_score\n",
        "\n",
        "vocab = LABEL.vocab.stoi \n",
        "reverseVocab = {index: word for word, index in vocab.items()} \n",
        "def tensor_to_text(tensor, index_to_word):\n",
        "    words = [index_to_word[index.item()] for index in tensor if index in index_to_word]\n",
        "    return ' '.join(words)\n",
        "\n",
        "# print(reverseVocab)\n",
        "\n",
        "for i in predictedIndex:\n",
        "    #print(i)\n",
        "    words = list(set([reverseVocab[index.item()] for index in i]))\n",
        "    print(words)\n",
        "\n",
        "\n",
        "#accuracyScore=accuracy_score()"
      ]
    },
    {
      "cell_type": "code",
      "execution_count": null,
      "metadata": {},
      "outputs": [
        {
          "name": "stdout",
          "output_type": "stream",
          "text": [
            "tensor([[[-0.0639,  4.0318,  6.6579,  ..., -0.4765, -0.9796, -0.0227],\n",
            "         [-0.4486,  2.7654,  1.2725,  ..., -0.3705, -1.1813, -0.3521],\n",
            "         [-0.0768,  6.1496,  5.6836,  ..., -0.3398, -0.3789, -0.1653],\n",
            "         ...,\n",
            "         [-0.0768,  6.1496,  5.6836,  ..., -0.3398, -0.3789, -0.1653],\n",
            "         [-0.0768,  6.1496,  5.6836,  ..., -0.3398, -0.3789, -0.1653],\n",
            "         [-0.0768,  6.1496,  5.6836,  ..., -0.3398, -0.3789, -0.1653]],\n",
            "\n",
            "        [[-0.0643,  4.0385,  6.6690,  ..., -0.4791, -0.9761, -0.0231],\n",
            "         [-0.4770,  2.7361,  1.3047,  ..., -0.3695, -1.2181, -0.3404],\n",
            "         [-0.1413,  5.7509,  5.4187,  ..., -0.3703, -0.4163, -0.1628],\n",
            "         ...,\n",
            "         [-0.0769,  6.1497,  5.6840,  ..., -0.3406, -0.3784, -0.1655],\n",
            "         [-0.0769,  6.1497,  5.6840,  ..., -0.3406, -0.3784, -0.1655],\n",
            "         [-0.0769,  6.1497,  5.6840,  ..., -0.3406, -0.3784, -0.1655]],\n",
            "\n",
            "        [[-0.0627,  4.0395,  6.6740,  ..., -0.4811, -0.9759, -0.0244],\n",
            "         [-0.4846,  2.7493,  1.2704,  ..., -0.3748, -1.2161, -0.3991],\n",
            "         [-0.0489,  6.3585,  5.7454,  ..., -0.3112, -0.3202, -0.1498],\n",
            "         ...,\n",
            "         [-0.0766,  6.1498,  5.6854,  ..., -0.3412, -0.3784, -0.1658],\n",
            "         [-0.0766,  6.1498,  5.6854,  ..., -0.3412, -0.3784, -0.1658],\n",
            "         [-0.0766,  6.1498,  5.6854,  ..., -0.3412, -0.3784, -0.1658]],\n",
            "\n",
            "        ...,\n",
            "\n",
            "        [[-0.5274,  2.7690,  2.5783,  ..., -0.3119, -1.0770, -0.3677],\n",
            "         [-0.5002,  3.1543,  2.7651,  ..., -0.3281, -0.9007, -0.3907],\n",
            "         [-0.0848,  5.2147,  4.9870,  ..., -0.3604, -0.7219, -0.3393],\n",
            "         ...,\n",
            "         [-0.0804,  6.1396,  5.6683,  ..., -0.2999, -0.3506, -0.1515],\n",
            "         [-0.0793,  6.1561,  5.6721,  ..., -0.2995, -0.3504, -0.1486],\n",
            "         [-0.1722,  5.5043,  5.2599,  ..., -0.3535, -0.3998, -0.1510]],\n",
            "\n",
            "        [[-0.5079,  2.8738,  2.6107,  ..., -0.3070, -1.0430, -0.3742],\n",
            "         [-0.4930,  3.1707,  2.7997,  ..., -0.3225, -0.8995, -0.3954],\n",
            "         [-0.2858,  4.8225,  4.5658,  ..., -0.3231, -0.4953, -0.2299],\n",
            "         ...,\n",
            "         [-0.0794,  6.1389,  5.6690,  ..., -0.2999, -0.3503, -0.1516],\n",
            "         [-0.0783,  6.1554,  5.6728,  ..., -0.2995, -0.3502, -0.1487],\n",
            "         [-0.1710,  5.5036,  5.2599,  ..., -0.3536, -0.3993, -0.1512]],\n",
            "\n",
            "        [[-0.5067,  2.7519,  2.5229,  ..., -0.3179, -1.0752, -0.3548],\n",
            "         [-0.4962,  3.1666,  2.7876,  ..., -0.3235, -0.8946, -0.3901],\n",
            "         [-0.2728,  4.8802,  4.6181,  ..., -0.3260, -0.4799, -0.2236],\n",
            "         ...,\n",
            "         [-0.0788,  6.1382,  5.6696,  ..., -0.2999, -0.3496, -0.1518],\n",
            "         [-0.0778,  6.1549,  5.6734,  ..., -0.2995, -0.3494, -0.1489],\n",
            "         [-0.1704,  5.5024,  5.2599,  ..., -0.3537, -0.3984, -0.1514]]],\n",
            "       grad_fn=<ViewBackward0>)\n",
            "616\n"
          ]
        }
      ],
      "source": [
        "pred=model(dev_data)\n",
        "print(pred)\n",
        "_,predictedIndex=torch.max(pred,dim=-1)\n",
        "print(len(pred))\n"
      ]
    },
    {
      "cell_type": "markdown",
      "metadata": {
        "id": "mefSOe8eTmGP"
      },
      "source": [
        "## Object Oriented Programming codes here\n",
        "\n",
        "*You can use multiple code snippets. Just add more if needed*"
      ]
    }
  ],
  "metadata": {
    "colab": {
      "provenance": [],
      "toc_visible": true
    },
    "kernelspec": {
      "display_name": "Python 3",
      "name": "python3"
    },
    "language_info": {
      "codemirror_mode": {
        "name": "ipython",
        "version": 3
      },
      "file_extension": ".py",
      "mimetype": "text/x-python",
      "name": "python",
      "nbconvert_exporter": "python",
      "pygments_lexer": "ipython3",
      "version": "3.8.17"
    }
  },
  "nbformat": 4,
  "nbformat_minor": 0
}
