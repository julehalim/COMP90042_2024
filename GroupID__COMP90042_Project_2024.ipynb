{
  "cells": [
    {
      "cell_type": "markdown",
      "metadata": {
        "id": "32yCsRUo8H33"
      },
      "source": [
        "# 2024 COMP90042 Project\n",
        "*Make sure you change the file name with your group id.*"
      ]
    },
    {
      "cell_type": "markdown",
      "metadata": {
        "id": "XCybYoGz8YWQ"
      },
      "source": [
        "# Readme\n",
        "*If there is something to be noted for the marker, please mention here.*\n",
        "\n",
        "*If you are planning to implement a program with Object Oriented Programming style, please put those the bottom of this ipynb file*"
      ]
    },
    {
      "cell_type": "markdown",
      "metadata": {
        "id": "6po98qVA8bJD"
      },
      "source": [
        "# 1.DataSet Processing\n",
        "(You can add as many code blocks and text blocks as you need. However, YOU SHOULD NOT MODIFY the section title)"
      ]
    },
    {
      "cell_type": "code",
      "execution_count": 1,
      "metadata": {},
      "outputs": [],
      "source": [
        "## package imports\n",
        "\n",
        "import pandas as pd"
      ]
    },
    {
      "cell_type": "code",
      "execution_count": 14,
      "metadata": {
        "id": "qvff21Hv8zjk"
      },
      "outputs": [
        {
          "name": "stdout",
          "output_type": "stream",
          "text": [
            "                                                     claim-752  \\\n",
            "claim_text   [South Australia] has the most expensive elect...   \n",
            "claim_label                                           SUPPORTS   \n",
            "evidences                    [evidence-67732, evidence-572512]   \n",
            "\n",
            "                                                     claim-375  \\\n",
            "claim_text   when 3 per cent of total annual global emissio...   \n",
            "claim_label                                    NOT_ENOUGH_INFO   \n",
            "evidences    [evidence-996421, evidence-1080858, evidence-2...   \n",
            "\n",
            "                                                    claim-1266  \\\n",
            "claim_text   This means that the world is now 1C warmer tha...   \n",
            "claim_label                                           SUPPORTS   \n",
            "evidences                   [evidence-889933, evidence-694262]   \n",
            "\n",
            "                                                     claim-871  \\\n",
            "claim_text   “As it happens, Zika may also be a good model ...   \n",
            "claim_label                                    NOT_ENOUGH_INFO   \n",
            "evidences    [evidence-422399, evidence-702226, evidence-28...   \n",
            "\n",
            "                                                    claim-2164  \\\n",
            "claim_text   Greenland has only lost a tiny fraction of its...   \n",
            "claim_label                                            REFUTES   \n",
            "evidences    [evidence-52981, evidence-264761, evidence-947...   \n",
            "\n",
            "                                                    claim-1607  \\\n",
            "claim_text                   CO2 limits won't cool the planet.   \n",
            "claim_label                                    NOT_ENOUGH_INFO   \n",
            "evidences    [evidence-913997, evidence-955328, evidence-40...   \n",
            "\n",
            "                                                     claim-761  \\\n",
            "claim_text   [Riebesell] is a world authority on the topic ...   \n",
            "claim_label                                    NOT_ENOUGH_INFO   \n",
            "evidences    [evidence-1129386, evidence-456747, evidence-6...   \n",
            "\n",
            "                                                    claim-1718  \\\n",
            "claim_text   The actual data show high northern latitudes a...   \n",
            "claim_label                                           SUPPORTS   \n",
            "evidences                  [evidence-857561, evidence-1150493]   \n",
            "\n",
            "                                                    claim-1273  \\\n",
            "claim_text   The rapid changes in the climate may have prof...   \n",
            "claim_label                                           SUPPORTS   \n",
            "evidences    [evidence-659559, evidence-181656, evidence-49...   \n",
            "\n",
            "                                                    claim-1786  ...  \\\n",
            "claim_text   CFCs contribute to global waerming at a small ...  ...   \n",
            "claim_label                                            REFUTES  ...   \n",
            "evidences    [evidence-845527, evidence-105411, evidence-32...  ...   \n",
            "\n",
            "                                                     claim-530  \\\n",
            "claim_text   South Australia is winning: it has the most un...   \n",
            "claim_label                                           SUPPORTS   \n",
            "evidences                                     [evidence-67732]   \n",
            "\n",
            "                                                    claim-2979  \\\n",
            "claim_text   Water vapor helps trap heat, and is a far the ...   \n",
            "claim_label                                           SUPPORTS   \n",
            "evidences                   [evidence-909112, evidence-706949]   \n",
            "\n",
            "                                                     claim-665  \\\n",
            "claim_text   many scientists were surprised when other rese...   \n",
            "claim_label                                    NOT_ENOUGH_INFO   \n",
            "evidences    [evidence-1105120, evidence-143437, evidence-1...   \n",
            "\n",
            "                                                     claim-199  \\\n",
            "claim_text   In the past, warming has never been a threat t...   \n",
            "claim_label                                            REFUTES   \n",
            "evidences                   [evidence-255653, evidence-817833]   \n",
            "\n",
            "                                                     claim-490  \\\n",
            "claim_text   IPCC report warning last week the world is “no...   \n",
            "claim_label                                           SUPPORTS   \n",
            "evidences    [evidence-225934, evidence-432573, evidence-10...   \n",
            "\n",
            "                                                    claim-2400  \\\n",
            "claim_text   'To suddenly label CO2 as a \"pollutant\" is a d...   \n",
            "claim_label                                            REFUTES   \n",
            "evidences    [evidence-409365, evidence-127519, evidence-85...   \n",
            "\n",
            "                                                     claim-204  \\\n",
            "claim_text   after a natural orbitally driven warming, atmo...   \n",
            "claim_label                                    NOT_ENOUGH_INFO   \n",
            "evidences    [evidence-368192, evidence-261690, evidence-20...   \n",
            "\n",
            "                                                    claim-1426  \\\n",
            "claim_text   Many of the world’s coral reefs are already ba...   \n",
            "claim_label                                    NOT_ENOUGH_INFO   \n",
            "evidences    [evidence-1124018, evidence-995813, evidence-1...   \n",
            "\n",
            "                                                     claim-698  \\\n",
            "claim_text   A recent study led by Lawrence Livermore Natio...   \n",
            "claim_label                                            REFUTES   \n",
            "evidences                                    [evidence-660755]   \n",
            "\n",
            "                                                    claim-1021  \n",
            "claim_text   The corals may save themselves, as many other ...  \n",
            "claim_label                                           SUPPORTS  \n",
            "evidences                  [evidence-242575, evidence-1175280]  \n",
            "\n",
            "[3 rows x 154 columns]\n"
          ]
        }
      ],
      "source": [
        "## reading in json files\n",
        "\n",
        "\"\"\"\n",
        "Description of json files\n",
        "* [train-claims,dev-claims].json: JSON files for the labelled training and development set; \n",
        "* evidence.json: JSON file containing a large number of evidence passages (i.e. the “knowledge source”); \n",
        "* dev-claims-baseline.json: JSON file containing predictions of a baseline system on the development set;\n",
        "\"\"\"\n",
        "\n",
        "## relative file paths\n",
        "\n",
        "## baseline system -  will be overwritten for the competition\n",
        "## will not be used for any training/evaluation\n",
        "devClaimsBaselineFile='./data/dev-claims-baseline.json'\n",
        "## use this set for hyperparameter tuning and evaluation metric \n",
        "devClaimsFile='./data/dev-claims.json'\n",
        "## use this for model training\n",
        "trainClaimsFile='./data/train-claims.json'\n",
        "## evidence files need to be downloaded through https://drive.google.com/file/d/1JlUzRufknsHzKzvrEjgw8D3n_IRpjzo6/view?usp=sharing as it is to big to be uploaded to github\n",
        "evidenceFile='./data/evidence.json'\n",
        "\n",
        "## import as pandas dataframe\n",
        "devClaimsBaseline=pd.read_json(devClaimsBaselineFile)\n",
        "devClaims=pd.read_json(devClaimsFile)\n",
        "trainClaims=pd.read_json(trainClaimsFile)\n",
        "evidence=pd.read_json(evidenceFile,orient='index')\n",
        "\n",
        "## visualize file structures\n",
        "print(devClaims)\n"
      ]
    },
    {
      "cell_type": "markdown",
      "metadata": {
        "id": "1FA2ao2l8hOg"
      },
      "source": [
        "# 2. Model Implementation\n",
        "(You can add as many code blocks and text blocks as you need. However, YOU SHOULD NOT MODIFY the section title)"
      ]
    },
    {
      "cell_type": "code",
      "execution_count": null,
      "metadata": {
        "id": "QIEqDDT78q39"
      },
      "outputs": [],
      "source": []
    },
    {
      "cell_type": "markdown",
      "metadata": {
        "id": "EzGuzHPE87Ya"
      },
      "source": [
        "# 3.Testing and Evaluation\n",
        "(You can add as many code blocks and text blocks as you need. However, YOU SHOULD NOT MODIFY the section title)"
      ]
    },
    {
      "cell_type": "code",
      "execution_count": null,
      "metadata": {
        "id": "6ZVeNYIH9IaL"
      },
      "outputs": [],
      "source": []
    },
    {
      "cell_type": "markdown",
      "metadata": {
        "id": "mefSOe8eTmGP"
      },
      "source": [
        "## Object Oriented Programming codes here\n",
        "\n",
        "*You can use multiple code snippets. Just add more if needed*"
      ]
    }
  ],
  "metadata": {
    "colab": {
      "provenance": [],
      "toc_visible": true
    },
    "kernelspec": {
      "display_name": "Python 3",
      "name": "python3"
    },
    "language_info": {
      "codemirror_mode": {
        "name": "ipython",
        "version": 3
      },
      "file_extension": ".py",
      "mimetype": "text/x-python",
      "name": "python",
      "nbconvert_exporter": "python",
      "pygments_lexer": "ipython3",
      "version": "3.8.17"
    }
  },
  "nbformat": 4,
  "nbformat_minor": 0
}
