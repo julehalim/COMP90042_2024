{
  "cells": [
    {
      "cell_type": "markdown",
      "metadata": {
        "id": "32yCsRUo8H33"
      },
      "source": [
        "# 2024 COMP90042 Project\n",
        "*Make sure you change the file name with your group id.*"
      ]
    },
    {
      "cell_type": "markdown",
      "metadata": {
        "id": "XCybYoGz8YWQ"
      },
      "source": [
        "# Readme\n",
        "*If there is something to be noted for the marker, please mention here.*\n",
        "\n",
        "*If you are planning to implement a program with Object Oriented Programming style, please put those the bottom of this ipynb file*"
      ]
    },
    {
      "cell_type": "markdown",
      "metadata": {
        "id": "6po98qVA8bJD"
      },
      "source": [
        "# 1.DataSet Processing\n",
        "(You can add as many code blocks and text blocks as you need. However, YOU SHOULD NOT MODIFY the section title)"
      ]
    },
    {
      "cell_type": "code",
      "execution_count": null,
      "metadata": {},
      "outputs": [],
      "source": [
        "## package imports\n",
        "\n",
        "import pandas as pd"
      ]
    },
    {
      "cell_type": "code",
      "execution_count": 2,
      "metadata": {
        "id": "qvff21Hv8zjk"
      },
      "outputs": [
        {
          "name": "stdout",
          "output_type": "stream",
          "text": [
            "                                                                  0\n",
            "evidence-0        John Bennet Lawes, English entrepreneur and ag...\n",
            "evidence-1        Lindberg began his professional career at the ...\n",
            "evidence-2        ``Boston (Ladies of Cambridge)'' by Vampire We...\n",
            "evidence-3        Gerald Francis Goyer (born October 20, 1936) w...\n",
            "evidence-4        He detected abnormalities of oxytocinergic fun...\n",
            "...                                                             ...\n",
            "evidence-1208822  Also on the property is a contributing garage ...\n",
            "evidence-1208823  | class = ``fn org'' | Fyrde | | | | 6110 | | ...\n",
            "evidence-1208824  Dragon Storm (game), a role-playing game and c...\n",
            "evidence-1208825  It states that the Zeriuani ``which is so grea...\n",
            "evidence-1208826  The storyline revolves around a giant plesiosa...\n",
            "\n",
            "[1208827 rows x 1 columns]\n"
          ]
        }
      ],
      "source": [
        "## reading in json files\n",
        "\n",
        "## relative file paths\n",
        "devClaimsBaselineFile='./data/dev-claims-baseline.json'\n",
        "devClaimsFile='./data/dev-claims.json'\n",
        "testClaimsUnlabelledFile='./data/test-claims-unlabelled.json'\n",
        "testClaimsFile='./data/train-claims.json'\n",
        "## evidence files need to be downloaded through https://drive.google.com/file/d/1JlUzRufknsHzKzvrEjgw8D3n_IRpjzo6/view?usp=sharing as it is to big to be uploaded to github\n",
        "evidenceFile='./data/evidence.json'\n",
        "\n",
        "## import as pandas dataframe\n",
        "devClaimsBaseline=pd.read_json(devClaimsBaselineFile)\n",
        "devClaims=pd.read_json(devClaimsFile)\n",
        "testClaimsUnlabelled=pd.read_json(testClaimsUnlabelledFile)\n",
        "testClaims=pd.read_json(testClaimsFile)\n",
        "evidence=pd.read_json(evidenceFile,orient='index')\n",
        "\n",
        "## visualize evidence.json structure\n",
        "print(evidence)\n"
      ]
    },
    {
      "cell_type": "markdown",
      "metadata": {
        "id": "1FA2ao2l8hOg"
      },
      "source": [
        "# 2. Model Implementation\n",
        "(You can add as many code blocks and text blocks as you need. However, YOU SHOULD NOT MODIFY the section title)"
      ]
    },
    {
      "cell_type": "code",
      "execution_count": null,
      "metadata": {
        "id": "QIEqDDT78q39"
      },
      "outputs": [],
      "source": []
    },
    {
      "cell_type": "markdown",
      "metadata": {
        "id": "EzGuzHPE87Ya"
      },
      "source": [
        "# 3.Testing and Evaluation\n",
        "(You can add as many code blocks and text blocks as you need. However, YOU SHOULD NOT MODIFY the section title)"
      ]
    },
    {
      "cell_type": "code",
      "execution_count": null,
      "metadata": {
        "id": "6ZVeNYIH9IaL"
      },
      "outputs": [],
      "source": []
    },
    {
      "cell_type": "markdown",
      "metadata": {
        "id": "mefSOe8eTmGP"
      },
      "source": [
        "## Object Oriented Programming codes here\n",
        "\n",
        "*You can use multiple code snippets. Just add more if needed*"
      ]
    }
  ],
  "metadata": {
    "colab": {
      "provenance": [],
      "toc_visible": true
    },
    "kernelspec": {
      "display_name": "Python 3",
      "name": "python3"
    },
    "language_info": {
      "codemirror_mode": {
        "name": "ipython",
        "version": 3
      },
      "file_extension": ".py",
      "mimetype": "text/x-python",
      "name": "python",
      "nbconvert_exporter": "python",
      "pygments_lexer": "ipython3",
      "version": "3.8.17"
    }
  },
  "nbformat": 4,
  "nbformat_minor": 0
}
