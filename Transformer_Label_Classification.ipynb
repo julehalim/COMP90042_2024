{
  "cells": [
    {
      "cell_type": "markdown",
      "metadata": {
        "id": "32yCsRUo8H33"
      },
      "source": [
        "# 2024 COMP90042 Project - Tues9AM_Group6\n",
        "*Make sure you change the file name with your group id.*"
      ]
    },
    {
      "cell_type": "markdown",
      "metadata": {
        "id": "XCybYoGz8YWQ"
      },
      "source": [
        "# Readme\n",
        "This model is the transformer model for label classification. It has code to take predicted inputs from the transformer model for evidence retrieval and predictions from my team member Noah's predictions. The input can only be read after the transformer evidence retrieval is provided or Noah's model predictions."
      ]
    },
    {
      "cell_type": "markdown",
      "metadata": {
        "id": "6po98qVA8bJD"
      },
      "source": [
        "# 1.DataSet Processing\n",
        "(You can add as many code blocks and text blocks as you need. However, YOU SHOULD NOT MODIFY the section title)"
      ]
    },
    {
      "cell_type": "code",
      "execution_count": 1,
      "metadata": {},
      "outputs": [],
      "source": [
        "## import libraries\n",
        "\n",
        "#!pip3 install torchtext==0.4.0\n",
        "\n",
        "# Standard libraries\n",
        "import math\n",
        "import string\n",
        "import pandas as pd\n",
        "import numpy as np\n",
        "import json\n",
        "import time\n",
        "import ast\n",
        "\n",
        "# Machine learning and deep learning libraries\n",
        "import tensorflow as tf\n",
        "import keras\n",
        "from keras import layers\n",
        "from keras import ops\n",
        "import torch\n",
        "import torch.nn as nn\n",
        "import torch.nn.functional as F\n",
        "from torchtext.data.utils import get_tokenizer\n",
        "from torchtext.data import Field, LabelField, Example, Dataset\n",
        "\n",
        "# Natural Language Processing (NLP) libraries\n",
        "import nltk\n",
        "\n",
        "# Visualization\n",
        "import matplotlib.pyplot as plt\n",
        "\n"
      ]
    },
    {
      "cell_type": "code",
      "execution_count": 2,
      "metadata": {},
      "outputs": [],
      "source": [
        "## reading in json files\n",
        "\n",
        "\"\"\"\n",
        "Description of json files\n",
        "* [train-claims,dev-claims].json: JSON files for the labelled training and development set; \n",
        "* evidence.json: JSON file containing a large number of evidence passages (i.e. the “knowledge source”); \n",
        "* dev-claims-baseline.json: JSON file containing predictions of a baseline system on the development set;\n",
        "\"\"\"\n",
        "\n",
        "## relative file paths\n",
        "\n",
        "## baseline system - will not be used for any training/evaluation\n",
        "devClaimsBaselineFile='./data/dev-claims-baseline.json'\n",
        "## use this for model training\n",
        "trainClaimsFile='./data/train-claims.json'\n",
        "## use this set for hyperparameter tuning and evaluation metric \n",
        "devClaimsFile='./data/dev-claims.json'\n",
        "## evidence files need to be downloaded through https://drive.google.com/file/d/1JlUzRufknsHzKzvrEjgw8D3n_IRpjzo6/view?usp=sharing as it is to big to be uploaded to github\n",
        "evidenceFile='./data/evidence.json'\n",
        "\n",
        "# these are files taken after the transformer has ouputted evidence id predictions\n",
        "\n",
        "testFile='./data/test-claims-unlabelled.json'\n",
        "\n",
        "resultsFile='./data/resultingData.json'\n",
        "\n",
        "tokenizer=get_tokenizer(\"basic_english\")\n",
        "\n",
        "# Load the JSON data\n",
        "with open(trainClaimsFile, 'r') as file:\n",
        "    trainClaims=json.load(file)\n",
        "with open(devClaimsFile, 'r') as file:\n",
        "    devClaims=json.load(file)\n",
        "with open(evidenceFile, 'r') as file:\n",
        "    evidenceData=json.load(file)\n",
        "with open(resultsFile, 'r') as file:\n",
        "    resultsData=json.load(file)\n",
        "\n",
        "## Preprocessing data -- lowercase, tokenize, and stopword removal\n",
        "stopwords=set(nltk.corpus.stopwords.words('english'))\n",
        "tokenizer=get_tokenizer('basic_english')\n",
        "punctuations=string.punctuation\n",
        "\n",
        "def preprocess(text):\n",
        "    token=tokenizer(text.lower())\n",
        "    cleanedTokens=[t for t in token if (t not in stopwords) and (t not in punctuations)]\n",
        "    return ' '.join(cleanedTokens)\n",
        "\n",
        "for ids, texts in evidenceData.items():\n",
        "    evidenceData[ids]=preprocess(texts)\n",
        "\n",
        "# Function to create DataFrame and merge evidence IDs with Text\n",
        "def createDF(claims, evidence):\n",
        "    combinedData=[]\n",
        "    for claimID, claimText in claims.items():\n",
        "        # Combine the ID with its corresponding evidences\n",
        "        evidenceID=claimText['evidences']\n",
        "        evidenceText=(evidence[i] for i in evidenceID if i in evidence)\n",
        "        combinedData.append({\n",
        "            'claim_id': claimID,\n",
        "            'claim_text': preprocess(claimText['claim_text']),\n",
        "            'evidence_id': evidenceID,\n",
        "            'evidence_text': \" \".join(evidenceText),\n",
        "            'claim_label': claimText['claim_label']\n",
        "        })\n",
        "    # Create DataFrame\n",
        "    return pd.DataFrame(combinedData)\n",
        "\n",
        "def createDFResults(claimsJson):\n",
        "    combinedData = []\n",
        "    for claimID, claimDetails in claimsJson.items():\n",
        "        claimText = preprocess(claimDetails['claim_text'][0]) \n",
        "        evidenceIDs = claimDetails['evidences']\n",
        "        evidenceTexts = claimDetails['evidence_text']\n",
        "        processed_texts = [preprocess(text) for text in evidenceTexts] \n",
        "        combinedData.append({\n",
        "            'claim_id': claimID,\n",
        "            'claim_text': claimText,\n",
        "            'evidence_ids': evidenceIDs,\n",
        "            'evidence_text': processed_texts\n",
        "        })\n",
        "        \n",
        "    return pd.DataFrame(combinedData)\n",
        "\n",
        "resultsMerged=createDFResults(resultsData)\n",
        "resultsMerged.to_csv('./data/processedResults.csv',index=False)\n",
        "\n",
        "# Create CSV Files\n",
        "trainFullMerged=createDF(trainClaims,evidenceData)\n",
        "devFullMerged=createDF(devClaims,evidenceData)\n",
        "trainFullMerged.to_csv(\"data/trainFullMerged.csv\", index=False)\n",
        "devFullMerged.to_csv(\"data/devFullMerged.csv\", index=False)\n",
        "\n",
        "# Convert evidence into csv as well\n",
        "evidenceFinal=pd.DataFrame(list(evidenceData.items()),columns=['evidence_id','evidence_text'])\n",
        "evidenceFinal.to_csv('data/evidencePreprocessed.csv',index=False)\n",
        "\n",
        "# Convert unlabelled Data into CSV as well\n",
        "with open(testFile, 'r') as file:\n",
        "    testData=json.load(file)\n",
        "for ids, texts in testData.items():\n",
        "    claim_text = texts['claim_text']\n",
        "    testData[ids]=preprocess(claim_text)\n",
        "testFinal=pd.DataFrame(list(testData.items()), columns=['claim_id', 'claim_text'])\n",
        "testFinal.to_csv('data/testPreprocessed.csv',index=False)"
      ]
    },
    {
      "cell_type": "code",
      "execution_count": 3,
      "metadata": {},
      "outputs": [],
      "source": [
        "## use this for model training\n",
        "trainClaimsFile='./data/trainFullMerged.csv'\n",
        "## use this set for hyperparameter tuning and evaluation metric \n",
        "devClaimsFile='./data/devFullMerged.csv'\n",
        "## evidence files need to be downloaded through googledrive (https://drive.google.com/file/d/1OyihwdAWfqHIOueCB4bLBkYg4hTN_OKm/view?usp=sharing)\n",
        "evidenceFile='./data/evidencePreprocessed.csv'\n",
        "## test unlabelled dataset\n",
        "testFile='./data/testPreprocessed.csv'\n",
        "##results file\n",
        "resultsFile='./data/processedResults.csv'\n",
        "\n",
        "\n",
        "trainDataframe=pd.read_csv(trainClaimsFile)\n",
        "devDataframe=pd.read_csv(devClaimsFile)\n",
        "evidenceDataframe=pd.read_csv(evidenceFile)\n",
        "testDataframe=pd.read_csv(testFile)\n",
        "resultsDataframe=pd.read_csv(resultsFile)\n",
        "\n",
        "trainDataframe['claim_text']=trainDataframe['claim_text']\n",
        "trainDataframe['combined_evidence']=trainDataframe['evidence_id']+\" \"+trainDataframe['evidence_text']\n",
        "trainDataframe['combined_input'] = trainDataframe['claim_text'] + \" [SEP] \" + trainDataframe['evidence_text']\n",
        "\n",
        "devDataframe['claim_text']=devDataframe['claim_text']\n",
        "devDataframe['combined_evidence']=devDataframe['evidence_id'] +\" \"+ devDataframe['evidence_text']\n",
        "devDataframe['combined_input'] = devDataframe['claim_text'] + \" [SEP] \" + devDataframe['evidence_text']\n",
        "\n",
        "resultsDataframe['combined_input']=resultsDataframe['claim_text'] + \" [SEP] \"+ resultsDataframe['evidence_text']"
      ]
    },
    {
      "cell_type": "code",
      "execution_count": 4,
      "metadata": {},
      "outputs": [],
      "source": [
        "## Preprocessing data -- lowercase, tokenize, and stopword removal\n",
        "stopwords=set(nltk.corpus.stopwords.words('english'))\n",
        "tokenizer=get_tokenizer('basic_english')\n",
        "punctuations=set(string.punctuation)\n",
        "\n",
        "def preprocess(text):\n",
        "    tokens=tokenizer(text)\n",
        "    cleanedTokens = [token for token in tokens if token not in stopwords and token not in punctuations]\n",
        "    return cleanedTokens\n",
        "\n",
        "TEXT = Field(lower=True, init_token='<sos>', eos_token='<eos>', batch_first=True)\n",
        "LABEL=LabelField(sequential=False)\n",
        "\n",
        "def createDatasetEncoderInput(dataframe,textTransform,labelTransform):\n",
        "    field=[('reviewTextInput',textTransform),('evidenceTextOutput',labelTransform)]\n",
        "    examples=[]\n",
        "    for _, row in dataframe.iterrows():\n",
        "        reviewTextInput=row['combined_input']\n",
        "        evidenceTextOutput=row['claim_label']\n",
        "        examples.append(Example.fromlist([reviewTextInput,evidenceTextOutput], field))\n",
        "    return Dataset(examples,fields=field)\n",
        "\n",
        "def createDatasetOutput(dataframe,labelTransform):\n",
        "    field=[('evidenceTextOutput',labelTransform)]\n",
        "    examples=[]\n",
        "    for _, row in dataframe.iterrows():\n",
        "        evidenceTextOutput=row['claim_label']\n",
        "        examples.append(Example.fromlist([evidenceTextOutput], field))\n",
        "    return Dataset(examples,fields=field)\n",
        "\n",
        "def createDatasetTest(dataframe,textTransform):\n",
        "    field=[('reviewTextInput',textTransform)]\n",
        "    examples=[]\n",
        "    for _, row in dataframe.iterrows():\n",
        "        reviewTextInput=row['combined_input']\n",
        "        examples.append(Example.fromlist([reviewTextInput], field))\n",
        "    return Dataset(examples,fields=field)\n",
        "\n",
        "trainTensor = createDatasetEncoderInput(trainDataframe, TEXT,LABEL)\n",
        "devTensor = createDatasetEncoderInput(devDataframe, TEXT,LABEL)\n",
        "#evidenceTensor=createDatasetOutput(evidenceDataframe,LABEL)\n",
        "#testTensor=createDatasetTest(testDataframe,TEXT)\n",
        "resultsTensor=createDatasetTest(resultsDataframe,TEXT)\n"
      ]
    },
    {
      "cell_type": "code",
      "execution_count": 5,
      "metadata": {},
      "outputs": [],
      "source": [
        "#build a text vocabulary for the text using the training data, along with a label vocab for the ouputs to be mapped back to labels\n",
        "\n",
        "TEXT.build_vocab(trainTensor)\n",
        "LABEL.build_vocab(trainTensor)\n",
        "\n",
        "vocabSize=len(TEXT.vocab.stoi)"
      ]
    },
    {
      "cell_type": "code",
      "execution_count": 6,
      "metadata": {},
      "outputs": [],
      "source": [
        "# sets up device to use GPU\n",
        "device = torch.device(\"cuda\" if torch.cuda.is_available() else \"cpu\")"
      ]
    },
    {
      "cell_type": "code",
      "execution_count": 7,
      "metadata": {},
      "outputs": [],
      "source": [
        "# converts the data into tensors\n",
        "def tensorConversion(dataset):\n",
        "    data = TEXT.process([getattr(x, 'reviewTextInput') for x in dataset.examples])\n",
        "    label = LABEL.process([getattr(x, 'evidenceTextOutput') for x in dataset.examples])\n",
        "    return data.to(device), label.to(device)\n",
        "\n",
        "## test is used for the final predictions\n",
        "TEST = Field(tokenize=preprocess, lower=True, init_token='<sos>', eos_token='<eos>', batch_first=True)\n",
        "TEST.build_vocab(trainTensor)\n",
        "def processTextOnly(dataset):\n",
        "    data = TEST.process([getattr(x, 'reviewTextInput') for x in dataset.examples])\n",
        "    return data.to(device)\n",
        "\n",
        "        \n",
        "train_data,train_label = tensorConversion(trainTensor)\n",
        "dev_data,dev_label = tensorConversion(devTensor)\n",
        "dev_accuracy_data=processTextOnly(devTensor)\n",
        "results_accuracy_data=processTextOnly(resultsTensor)\n",
        "bptt = 35\n",
        "def get_batch(source, i):\n",
        "    seq_len = min(bptt, len(source) - 1 - i)\n",
        "    data = source[i:i+seq_len]\n",
        "    target = source[i+1:i+1+seq_len].view(-1)\n",
        "    return data, target"
      ]
    },
    {
      "cell_type": "code",
      "execution_count": 8,
      "metadata": {},
      "outputs": [],
      "source": [
        "#converts the data into numpy format\n",
        "train_numpy_data=train_data.numpy()\n",
        "train_numpy_label=train_label.numpy()\n",
        "dev_numpy_data=dev_data.numpy()\n",
        "dev_numpy_label=dev_label.numpy()\n",
        "results_numpy_data=results_accuracy_data.numpy()"
      ]
    },
    {
      "cell_type": "code",
      "execution_count": 48,
      "metadata": {},
      "outputs": [],
      "source": [
        "# THIS SECTION IS ONLY USED TO CLASSIFY NOAH'S PREDICTIONS ##\n",
        "\n",
        "# def createDFResultsNoah(claimsJson):\n",
        "#     combinedData = []\n",
        "#     for claimID, claimDetails in claimsJson.items():\n",
        "#         evidenceIDs = claimDetails['evidences']\n",
        "#         combinedData.append({\n",
        "#             'claim_id': claimID,\n",
        "#             'claim_text': preprocess(claimDetails['claim_text']),\n",
        "#             'evidence_ids': evidenceIDs,\n",
        "#         })\n",
        "        \n",
        "#     return pd.DataFrame(combinedData)\n",
        "\n",
        "# #reading in Noah's predictions\n",
        "# noahEvidence='./data/pred_dev_evd_retrieval_bidirectM_rus0.028.json'\n",
        "\n",
        "# with open(noahEvidence,'r') as file:\n",
        "#     noahData=json.load(file)\n",
        "\n",
        "# noahDataframe=createDFResultsNoah(noahData)\n",
        "# # print(noahMerged)\n",
        "# # print(evidenceDataframe)\n",
        "\n",
        "# evidenceDict = pd.Series(evidenceDataframe['evidence_text'].values, index=evidenceDataframe['evidence_id']).to_dict()\n",
        "\n",
        "# def getEvidenceTexts(evidence_ids):\n",
        "#     texts=[str(evidenceDict.get(eid, \"\")) for eid in evidence_ids if eid in evidenceDict]\n",
        "#     return \" \".join(texts)\n",
        "# noahDataframe['evidence_text']=noahDataframe['evidence_ids'].apply(getEvidenceTexts)\n",
        "# noahDataframe['combined_input']=noahDataframe['claim_text'].apply(lambda x: ' '.join(x)) + \" [SEP] \"+ noahDataframe['evidence_text']\n",
        "# noahTensor=createDatasetTest(noahDataframe,TEXT)\n",
        "# noahAccuracyData=processTextOnly(noahTensor)\n",
        "# noahNumpy=noahAccuracyData.numpy()"
      ]
    },
    {
      "cell_type": "markdown",
      "metadata": {
        "id": "1FA2ao2l8hOg"
      },
      "source": [
        "# 2. Model Implementation\n",
        "(You can add as many code blocks and text blocks as you need. However, YOU SHOULD NOT MODIFY the section title)"
      ]
    },
    {
      "cell_type": "code",
      "execution_count": 10,
      "metadata": {},
      "outputs": [],
      "source": [
        "# encoder only transformer to predict classification labels\n",
        "# code was inspired from https://n8henrie.com/2021/08/writing-a-transformer-classifier-in-pytorch/\n",
        "\n",
        "class TransformerBlock(layers.Layer):\n",
        "    def __init__(self, embed_dim, num_heads, ff_dim, rate=0.1):\n",
        "        super().__init__()\n",
        "        self.att = layers.MultiHeadAttention(num_heads=num_heads, key_dim=embed_dim)\n",
        "        self.ffn = keras.Sequential(\n",
        "            [layers.Dense(ff_dim, activation=\"relu\"), layers.Dense(embed_dim),]\n",
        "        )\n",
        "        self.layernorm1 = layers.LayerNormalization(epsilon=1e-6)\n",
        "        self.layernorm2 = layers.LayerNormalization(epsilon=1e-6)\n",
        "        self.dropout1 = layers.Dropout(rate)\n",
        "        self.dropout2 = layers.Dropout(rate)\n",
        "\n",
        "    def call(self, inputs):\n",
        "        attn_output = self.att(inputs, inputs)\n",
        "        attn_output = self.dropout1(attn_output)\n",
        "        out1 = self.layernorm1(inputs + attn_output)\n",
        "        ffn_output = self.ffn(out1)\n",
        "        ffn_output = self.dropout2(ffn_output)\n",
        "        return self.layernorm2(out1 + ffn_output)\n",
        "    \n",
        "class TokenAndPositionEmbedding(layers.Layer):\n",
        "    def __init__(self, maxlen, vocab_size, embed_dim):\n",
        "        super().__init__()\n",
        "        self.token_emb = layers.Embedding(input_dim=vocab_size, output_dim=embed_dim)\n",
        "        self.pos_emb = layers.Embedding(input_dim=maxlen, output_dim=embed_dim)\n",
        "\n",
        "    def call(self, x):\n",
        "        maxlen = ops.shape(x)[-1]\n",
        "        positions = ops.arange(start=0, stop=maxlen, step=1)\n",
        "        positions = self.pos_emb(positions)\n",
        "        x = self.token_emb(x)\n",
        "        return x + positions\n"
      ]
    },
    {
      "cell_type": "markdown",
      "metadata": {
        "id": "EzGuzHPE87Ya"
      },
      "source": [
        "# 3.Testing and Evaluation\n",
        "(You can add as many code blocks and text blocks as you need. However, YOU SHOULD NOT MODIFY the section title)"
      ]
    },
    {
      "cell_type": "code",
      "execution_count": 11,
      "metadata": {
        "id": "6ZVeNYIH9IaL"
      },
      "outputs": [],
      "source": [
        "#initialize the model\n",
        "\n",
        "embed_dim = 64  # emb size\n",
        "num_heads = 8  # attention head\n",
        "ff_dim = 64  # layer size\n",
        "\n",
        "inputs = layers.Input(shape=(None,))\n",
        "embedding_layer = TokenAndPositionEmbedding(400, vocabSize, embed_dim)\n",
        "x = embedding_layer(inputs)\n",
        "transformer_block = TransformerBlock(embed_dim, num_heads, ff_dim)\n",
        "x = transformer_block(x)\n",
        "x = layers.GlobalAveragePooling1D()(x)\n",
        "x = layers.Dropout(0.1)(x)\n",
        "x = layers.Dense(20, activation=\"relu\")(x)\n",
        "x = layers.Dropout(0.1)(x)\n",
        "outputs = layers.Dense(4, activation=\"softmax\")(x)\n",
        "\n",
        "model = keras.Model(inputs=inputs, outputs=outputs)"
      ]
    },
    {
      "cell_type": "code",
      "execution_count": 66,
      "metadata": {},
      "outputs": [
        {
          "name": "stdout",
          "output_type": "stream",
          "text": [
            "Epoch 1/15\n",
            "\u001b[1m39/39\u001b[0m \u001b[32m━━━━━━━━━━━━━━━━━━━━\u001b[0m\u001b[37m\u001b[0m \u001b[1m24s\u001b[0m 562ms/step - accuracy: 0.9970 - loss: 0.0080 - val_accuracy: 0.5584 - val_loss: 3.6409\n",
            "Epoch 2/15\n",
            "\u001b[1m39/39\u001b[0m \u001b[32m━━━━━━━━━━━━━━━━━━━━\u001b[0m\u001b[37m\u001b[0m \u001b[1m23s\u001b[0m 586ms/step - accuracy: 0.9968 - loss: 0.0098 - val_accuracy: 0.5390 - val_loss: 4.9214\n",
            "Epoch 3/15\n",
            "\u001b[1m39/39\u001b[0m \u001b[32m━━━━━━━━━━━━━━━━━━━━\u001b[0m\u001b[37m\u001b[0m \u001b[1m24s\u001b[0m 605ms/step - accuracy: 0.9952 - loss: 0.0066 - val_accuracy: 0.5390 - val_loss: 4.2901\n",
            "Epoch 4/15\n",
            "\u001b[1m39/39\u001b[0m \u001b[32m━━━━━━━━━━━━━━━━━━━━\u001b[0m\u001b[37m\u001b[0m \u001b[1m23s\u001b[0m 590ms/step - accuracy: 0.9985 - loss: 0.0036 - val_accuracy: 0.5844 - val_loss: 4.1398\n",
            "Epoch 5/15\n",
            "\u001b[1m39/39\u001b[0m \u001b[32m━━━━━━━━━━━━━━━━━━━━\u001b[0m\u001b[37m\u001b[0m \u001b[1m24s\u001b[0m 619ms/step - accuracy: 0.9995 - loss: 0.0049 - val_accuracy: 0.5649 - val_loss: 4.6047\n",
            "Epoch 6/15\n",
            "\u001b[1m39/39\u001b[0m \u001b[32m━━━━━━━━━━━━━━━━━━━━\u001b[0m\u001b[37m\u001b[0m \u001b[1m24s\u001b[0m 611ms/step - accuracy: 0.9989 - loss: 0.0039 - val_accuracy: 0.5714 - val_loss: 4.7433\n",
            "Epoch 7/15\n",
            "\u001b[1m39/39\u001b[0m \u001b[32m━━━━━━━━━━━━━━━━━━━━\u001b[0m\u001b[37m\u001b[0m \u001b[1m23s\u001b[0m 596ms/step - accuracy: 1.0000 - loss: 0.0029 - val_accuracy: 0.5649 - val_loss: 4.8253\n",
            "Epoch 8/15\n",
            "\u001b[1m39/39\u001b[0m \u001b[32m━━━━━━━━━━━━━━━━━━━━\u001b[0m\u001b[37m\u001b[0m \u001b[1m24s\u001b[0m 606ms/step - accuracy: 1.0000 - loss: 0.0013 - val_accuracy: 0.5455 - val_loss: 5.1073\n",
            "Epoch 9/15\n",
            "\u001b[1m39/39\u001b[0m \u001b[32m━━━━━━━━━━━━━━━━━━━━\u001b[0m\u001b[37m\u001b[0m \u001b[1m23s\u001b[0m 580ms/step - accuracy: 1.0000 - loss: 9.0318e-04 - val_accuracy: 0.5455 - val_loss: 5.3011\n",
            "Epoch 10/15\n",
            "\u001b[1m39/39\u001b[0m \u001b[32m━━━━━━━━━━━━━━━━━━━━\u001b[0m\u001b[37m\u001b[0m \u001b[1m23s\u001b[0m 586ms/step - accuracy: 1.0000 - loss: 8.9091e-04 - val_accuracy: 0.5584 - val_loss: 5.6426\n",
            "Epoch 11/15\n",
            "\u001b[1m39/39\u001b[0m \u001b[32m━━━━━━━━━━━━━━━━━━━━\u001b[0m\u001b[37m\u001b[0m \u001b[1m22s\u001b[0m 573ms/step - accuracy: 1.0000 - loss: 0.0013 - val_accuracy: 0.5649 - val_loss: 5.7785\n",
            "Epoch 12/15\n",
            "\u001b[1m39/39\u001b[0m \u001b[32m━━━━━━━━━━━━━━━━━━━━\u001b[0m\u001b[37m\u001b[0m \u001b[1m23s\u001b[0m 584ms/step - accuracy: 1.0000 - loss: 3.7369e-04 - val_accuracy: 0.5455 - val_loss: 5.4508\n",
            "Epoch 13/15\n",
            "\u001b[1m39/39\u001b[0m \u001b[32m━━━━━━━━━━━━━━━━━━━━\u001b[0m\u001b[37m\u001b[0m \u001b[1m23s\u001b[0m 587ms/step - accuracy: 1.0000 - loss: 3.6533e-04 - val_accuracy: 0.5779 - val_loss: 5.4396\n",
            "Epoch 14/15\n",
            "\u001b[1m39/39\u001b[0m \u001b[32m━━━━━━━━━━━━━━━━━━━━\u001b[0m\u001b[37m\u001b[0m \u001b[1m23s\u001b[0m 583ms/step - accuracy: 1.0000 - loss: 7.3616e-04 - val_accuracy: 0.5844 - val_loss: 5.5988\n",
            "Epoch 15/15\n",
            "\u001b[1m39/39\u001b[0m \u001b[32m━━━━━━━━━━━━━━━━━━━━\u001b[0m\u001b[37m\u001b[0m \u001b[1m22s\u001b[0m 577ms/step - accuracy: 1.0000 - loss: 2.4264e-04 - val_accuracy: 0.5779 - val_loss: 5.6147\n"
          ]
        }
      ],
      "source": [
        "## evaluate the accuracy and loss during model training\n",
        "\n",
        "model.compile(optimizer=\"adam\", loss=\"sparse_categorical_crossentropy\", metrics=[\"accuracy\"])\n",
        "\n",
        "total_start_time = time.time()\n",
        "\n",
        "history = model.fit(\n",
        "    train_numpy_data, \n",
        "    train_numpy_label, \n",
        "    batch_size=32, \n",
        "    epochs=15, \n",
        "    validation_data=(dev_numpy_data, dev_numpy_label)\n",
        ")\n"
      ]
    },
    {
      "cell_type": "code",
      "execution_count": 67,
      "metadata": {},
      "outputs": [
        {
          "name": "stdout",
          "output_type": "stream",
          "text": [
            "Total training time: 347.25 seconds\n"
          ]
        },
        {
          "data": {
            "image/png": "[encoded data removed]",
            "text/plain": [
              "<Figure size 1200x600 with 2 Axes>"
            ]
          },
          "metadata": {},
          "output_type": "display_data"
        }
      ],
      "source": [
        "## visualize the model accuracy and losses\n",
        "\n",
        "total_end_time = time.time()\n",
        "total_training_time = total_end_time - total_start_time\n",
        "print(f'Total training time: {total_training_time:.2f} seconds')\n",
        "\n",
        "train_loss = history.history['loss']\n",
        "val_loss = history.history['val_loss']\n",
        "train_accuracy = history.history['accuracy']\n",
        "val_accuracy = history.history['val_accuracy']\n",
        "\n",
        "plt.figure(figsize=(12, 6))\n",
        "\n",
        "plt.subplot(2, 2, 1)\n",
        "plt.plot(train_loss, label='Training Loss')\n",
        "plt.plot(val_loss, label='Validation Loss')\n",
        "plt.xlabel('Epoch')\n",
        "plt.ylabel('Loss')\n",
        "plt.title('Training and Validation Loss')\n",
        "plt.legend()\n",
        "\n",
        "plt.subplot(2, 2, 2)\n",
        "plt.plot(train_accuracy, label='Training Accuracy')\n",
        "plt.plot(val_accuracy, label='Validation Accuracy')\n",
        "plt.xlabel('Epoch')\n",
        "plt.ylabel('Accuracy')\n",
        "plt.title('Training and Validation Accuracy')\n",
        "plt.legend()\n",
        "\n",
        "plt.tight_layout()\n",
        "plt.show()"
      ]
    },
    {
      "cell_type": "code",
      "execution_count": 68,
      "metadata": {},
      "outputs": [],
      "source": [
        "#used to save models\n",
        "\n",
        "#model.save('./runs/classificationAccuracyUsed.keras')\n",
        "#model=keras.models.load_model('./runs/classificationAccuracyUsed.keras')"
      ]
    },
    {
      "cell_type": "code",
      "execution_count": 93,
      "metadata": {},
      "outputs": [
        {
          "name": "stdout",
          "output_type": "stream",
          "text": [
            "\u001b[1m5/5\u001b[0m \u001b[32m━━━━━━━━━━━━━━━━━━━━\u001b[0m\u001b[37m\u001b[0m \u001b[1m1s\u001b[0m 119ms/step\n",
            "[3 1 1 3 3 3 3 3 1 1 1 3 3 3 3 3 1 3 3 1 1 1 1 1 1 3 3 1 3 1 1 3 3 3 3 3 1\n",
            " 1 3 3 3 3 3 1 3 3 3 1 1 3 3 3 3 3 3 3 3 1 3 1 1 1 1 1 1 3 1 3 3 1 1 1 3 3\n",
            " 3 3 1 3 1 1 3 1 1 3 1 1 3 3 3 3 3 0 3 3 3 1 3 1 3 3 3 1 1 3 1 3 3 1 3 1 3\n",
            " 3 3 3 3 3 1 3 3 1 3 3 1 3 3 3 1 1 3 1 3 3 3 1 3 1 3 3 3 3 1 1 3 0 3 1 1 3\n",
            " 3 3 1 3 1 3]\n"
          ]
        }
      ],
      "source": [
        "## change this line to the numpy data you want to predict - default to development set\n",
        "#pred=model.predict(dev_numpy_data)\n",
        "pred=model.predict(noahNumpy)\n",
        "class_predictions = np.argmax(pred, axis=1)\n",
        "\n",
        "print(class_predictions)"
      ]
    },
    {
      "cell_type": "code",
      "execution_count": 94,
      "metadata": {},
      "outputs": [
        {
          "name": "stdout",
          "output_type": "stream",
          "text": [
            "['DISPUTED', 'NOT_ENOUGH_INFO', 'NOT_ENOUGH_INFO', 'DISPUTED', 'DISPUTED', 'DISPUTED', 'DISPUTED', 'DISPUTED', 'NOT_ENOUGH_INFO', 'NOT_ENOUGH_INFO', 'NOT_ENOUGH_INFO', 'DISPUTED', 'DISPUTED', 'DISPUTED', 'DISPUTED', 'DISPUTED', 'NOT_ENOUGH_INFO', 'DISPUTED', 'DISPUTED', 'NOT_ENOUGH_INFO', 'NOT_ENOUGH_INFO', 'NOT_ENOUGH_INFO', 'NOT_ENOUGH_INFO', 'NOT_ENOUGH_INFO', 'NOT_ENOUGH_INFO', 'DISPUTED', 'DISPUTED', 'NOT_ENOUGH_INFO', 'DISPUTED', 'NOT_ENOUGH_INFO', 'NOT_ENOUGH_INFO', 'DISPUTED', 'DISPUTED', 'DISPUTED', 'DISPUTED', 'DISPUTED', 'NOT_ENOUGH_INFO', 'NOT_ENOUGH_INFO', 'DISPUTED', 'DISPUTED', 'DISPUTED', 'DISPUTED', 'DISPUTED', 'NOT_ENOUGH_INFO', 'DISPUTED', 'DISPUTED', 'DISPUTED', 'NOT_ENOUGH_INFO', 'NOT_ENOUGH_INFO', 'DISPUTED', 'DISPUTED', 'DISPUTED', 'DISPUTED', 'DISPUTED', 'DISPUTED', 'DISPUTED', 'DISPUTED', 'NOT_ENOUGH_INFO', 'DISPUTED', 'NOT_ENOUGH_INFO', 'NOT_ENOUGH_INFO', 'NOT_ENOUGH_INFO', 'NOT_ENOUGH_INFO', 'NOT_ENOUGH_INFO', 'NOT_ENOUGH_INFO', 'DISPUTED', 'NOT_ENOUGH_INFO', 'DISPUTED', 'DISPUTED', 'NOT_ENOUGH_INFO', 'NOT_ENOUGH_INFO', 'NOT_ENOUGH_INFO', 'DISPUTED', 'DISPUTED', 'DISPUTED', 'DISPUTED', 'NOT_ENOUGH_INFO', 'DISPUTED', 'NOT_ENOUGH_INFO', 'NOT_ENOUGH_INFO', 'DISPUTED', 'NOT_ENOUGH_INFO', 'NOT_ENOUGH_INFO', 'DISPUTED', 'NOT_ENOUGH_INFO', 'NOT_ENOUGH_INFO', 'DISPUTED', 'DISPUTED', 'DISPUTED', 'DISPUTED', 'DISPUTED', 'SUPPORTS', 'DISPUTED', 'DISPUTED', 'DISPUTED', 'NOT_ENOUGH_INFO', 'DISPUTED', 'NOT_ENOUGH_INFO', 'DISPUTED', 'DISPUTED', 'DISPUTED', 'NOT_ENOUGH_INFO', 'NOT_ENOUGH_INFO', 'DISPUTED', 'NOT_ENOUGH_INFO', 'DISPUTED', 'DISPUTED', 'NOT_ENOUGH_INFO', 'DISPUTED', 'NOT_ENOUGH_INFO', 'DISPUTED', 'DISPUTED', 'DISPUTED', 'DISPUTED', 'DISPUTED', 'DISPUTED', 'NOT_ENOUGH_INFO', 'DISPUTED', 'DISPUTED', 'NOT_ENOUGH_INFO', 'DISPUTED', 'DISPUTED', 'NOT_ENOUGH_INFO', 'DISPUTED', 'DISPUTED', 'DISPUTED', 'NOT_ENOUGH_INFO', 'NOT_ENOUGH_INFO', 'DISPUTED', 'NOT_ENOUGH_INFO', 'DISPUTED', 'DISPUTED', 'DISPUTED', 'NOT_ENOUGH_INFO', 'DISPUTED', 'NOT_ENOUGH_INFO', 'DISPUTED', 'DISPUTED', 'DISPUTED', 'DISPUTED', 'NOT_ENOUGH_INFO', 'NOT_ENOUGH_INFO', 'DISPUTED', 'SUPPORTS', 'DISPUTED', 'NOT_ENOUGH_INFO', 'NOT_ENOUGH_INFO', 'DISPUTED', 'DISPUTED', 'DISPUTED', 'NOT_ENOUGH_INFO', 'DISPUTED', 'NOT_ENOUGH_INFO', 'DISPUTED']\n"
          ]
        }
      ],
      "source": [
        "#maps prediction back to classification labels\n",
        "label_names = [LABEL.vocab.itos[i] for i in class_predictions]\n",
        "print(label_names)"
      ]
    },
    {
      "cell_type": "code",
      "execution_count": 95,
      "metadata": {},
      "outputs": [],
      "source": [
        "#prepare data \n",
        "resultsDataframe['claim_label']=label_names\n",
        "finalDataframe=resultsDataframe.rename(columns={\n",
        "    'evidence_ids':'evidences'\n",
        "})"
      ]
    },
    {
      "cell_type": "code",
      "execution_count": 96,
      "metadata": {},
      "outputs": [],
      "source": [
        "## FOR NOAHS DATA ##\n",
        "# noahDataframe['claim_label']=label_names\n",
        "\n",
        "# finalDataframe=noahDataframe.rename(columns={\n",
        "#     'evidence_ids':'evidences'\n",
        "# })"
      ]
    },
    {
      "cell_type": "code",
      "execution_count": 97,
      "metadata": {},
      "outputs": [],
      "source": [
        "## FOR NOAHS DATA ##\n",
        "\n",
        "# claims_dict = {}\n",
        "# for index, row in finalDataframe.iterrows():\n",
        "#     if isinstance(row['evidences'], list):\n",
        "#         evidences_list = row['evidences']\n",
        "#     else:\n",
        "#         evidences_list = ast.literal_eval(row['evidences'])   \n",
        "#     claims_dict[row['claim_id']] = {\n",
        "#         'evidences': evidences_list,\n",
        "#         'claim_label': row['claim_label']\n",
        "#     }\n",
        "\n",
        "# # Saving the dictionary to a JSON file\n",
        "# with open('./data/noah_2_dev.json', 'w') as json_file:\n",
        "#     json.dump(claims_dict, json_file, indent=4)"
      ]
    },
    {
      "cell_type": "code",
      "execution_count": 98,
      "metadata": {},
      "outputs": [],
      "source": [
        "## change data labels to be ready for predictions and eval.py\n",
        "\n",
        "claims_dict = {}\n",
        "for index, row in finalDataframe.iterrows():\n",
        "    evidences_list = ast.literal_eval(row['evidences'])\n",
        "    claims_dict[row['claim_id']] = {\n",
        "        'claim_text': [row['claim_text']],\n",
        "        'evidences': evidences_list,\n",
        "        'claim_label': row['claim_label']\n",
        "    }\n",
        "\n",
        "Saving the dictionary to a JSON file\n",
        "with open('./data/final_predictions_all_transformer.json', 'w') as json_file:\n",
        "    json.dump(claims_dict, json_file, indent=4)"
      ]
    },
    {
      "cell_type": "markdown",
      "metadata": {
        "id": "mefSOe8eTmGP"
      },
      "source": [
        "## Object Oriented Programming codes here\n",
        "\n",
        "*You can use multiple code snippets. Just add more if needed*"
      ]
    }
  ],
  "metadata": {
    "colab": {
      "provenance": [],
      "toc_visible": true
    },
    "kernelspec": {
      "display_name": "Python 3",
      "name": "python3"
    },
    "language_info": {
      "codemirror_mode": {
        "name": "ipython",
        "version": 3
      },
      "file_extension": ".py",
      "mimetype": "text/x-python",
      "name": "python",
      "nbconvert_exporter": "python",
      "pygments_lexer": "ipython3",
      "version": "3.11.3"
    }
  },
  "nbformat": 4,
  "nbformat_minor": 0
}
